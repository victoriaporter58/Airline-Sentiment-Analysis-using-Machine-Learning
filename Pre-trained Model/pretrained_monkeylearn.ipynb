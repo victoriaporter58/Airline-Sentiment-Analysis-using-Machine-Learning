{
  "nbformat": 4,
  "nbformat_minor": 0,
  "metadata": {
    "colab": {
      "name": "pretrained_monkeylearn.ipynb",
      "provenance": [],
      "collapsed_sections": [],
      "include_colab_link": true
    },
    "kernelspec": {
      "name": "python3",
      "display_name": "Python 3"
    },
    "accelerator": "GPU"
  },
  "cells": [
    {
      "cell_type": "markdown",
      "metadata": {
        "id": "view-in-github",
        "colab_type": "text"
      },
      "source": [
        "#Pre-trained Model\n"
        "<a href=\"https://colab.research.google.com/github/victoriaporter58/Airline-Sentiment-Analysis-using-Machine-Learning/blob/main/pretrained_monkeylearn.ipynb\" target=\"_parent\"><img src=\"https://colab.research.google.com/assets/colab-badge.svg\" alt=\"Open In Colab\"/></a>"
      ]
    },
    {
      "cell_type": "markdown",
      "metadata": {
        "id": "z2Dq5Geaj4xM"
      },
      "source": [
        "This pre-trained Sentiment Analysis model is taken from the MonkeyLearn app.\n",
        "\n",
        "This demo model requires that you sign up to https://monkeylearn.com/. \n",
        "A free account permits 300 queries to a model per month."
      ]
    },
    {
      "cell_type": "code",
      "metadata": {
        "id": "0JOmLnwTd8Qt"
      },
      "source": [
        "#uncomment the pip install if in google colab\n",
        "!pip install monkeylearn"
      ],
      "execution_count": null,
      "outputs": []
    },
    {
      "cell_type": "code",
      "metadata": {
        "id": "FNi4yihteQlk"
      },
      "source": [
        "from monkeylearn import MonkeyLearn\n",
        "import pandas as pd\n",
        "from sklearn.model_selection import train_test_split\n",
        "import json\n",
        "import csv\n",
        "\n",
        "path ='/content/Tweets.csv'"
      ],
      "execution_count": null,
      "outputs": []
    },
    {
      "cell_type": "markdown",
      "metadata": {
        "id": "268Cg9ufkmg7"
      },
      "source": [
        "The model id represents the Sentiment Analysis model found at https://app.monkeylearn.com/main/classifiers/cl_pi3C7JiL/ and the string saved in the variable 'ml' is the unique key used to access the model, found in your account settings."
      ]
    },
    {
      "cell_type": "code",
      "metadata": {
        "id": "FDlnQ3RPetvN"
      },
      "source": [
        "ml = MonkeyLearn('b8ffa3ee40108e341468779bad99d6b970339bfe')\n",
        "model_id = 'cl_pi3C7JiL'"
      ],
      "execution_count": null,
      "outputs": []
    },
    {
      "cell_type": "code",
      "metadata": {
        "id": "QlijvdRZhr8O"
      },
      "source": [
        "tweets = pd.read_csv(path, header=0)\n",
        "df = tweets.copy()[['airline_sentiment', 'text']]\n",
        "x_train, x_test, y_train, y_test = train_test_split(df['text'], df['airline_sentiment'], test_size=0.1, random_state=0)\n",
        "num_tweet = 14641"
      ],
      "execution_count": null,
      "outputs": []
    },
    {
      "cell_type": "markdown",
      "metadata": {
        "id": "866Qg6-Kk-Ps"
      },
      "source": [
        "The following will classify the tweet texts as 'Positive', 'Negative' or 'Neutral'. The classifier returns a JSON which will be saved in a .txt file, and the summarised result with comparison to the correct label is saved in results.csv"
      ]
    },
    {
      "cell_type": "code",
      "metadata": {
        "id": "-VJMDYRMaI7Y"
      },
      "source": [
        "json_array=[]\n",
        "with open('results.csv', 'w', newline='') as file:\n",
        "    writer = csv.writer(file)\n",
        "    writer.writerow([\"tag id\", \"prediction\", \"confidence\", \"actual\", \"correct\"])\n",
        "\n",
        "\n",
        "i = 0\n",
        "for i in range(299):\n",
        "  text = [x_train.iloc[i]]\n",
        "  result = ml.classifiers.classify(model_id, text)\n",
        "  json_array.append(result.body)\n",
        "\n",
        "  result = json.loads(json.dumps(result.body))[0]\n",
        "  \n",
        "\n",
        " \n",
        "  tag_id = result['classifications'][0]['tag_id']\n",
        "  pred_class = result['classifications'][0]['tag_name']\n",
        "  conf = result['classifications'][0]['confidence']\n",
        "  actual = y_train.iloc[i]\n",
        "  if str(pred_class.lower()) == str(actual):\n",
        "    correct = True\n",
        "  else:\n",
        "    correct = False\n",
        "\n",
        "  with open('results.csv', 'a', newline='') as file:\n",
        "    writer = csv.writer(file)\n",
        "    writer.writerow([tag_id, pred_class, conf, actual,correct])\n",
        "  \n",
        "\n",
        "\n",
        "\n",
        "with open('classified_results.txt', 'w') as f:\n",
        "  json.dump(json_array, f)"
      ],
      "execution_count": null,
      "outputs": []
    },
    {
      "cell_type": "markdown",
      "metadata": {
        "id": "DT0CEZV_mF1l"
      },
      "source": [
        "This will analyse the accuracy of the predictions"
      ]
    },
    {
      "cell_type": "code",
      "metadata": {
        "id": "_cuOi5rve6vo"
      },
      "source": [
        "results_df = pd.read_csv(\"/content/results.csv\", header = 0)\n",
        "true_count = 0 \n",
        "false_count = 0\n",
        "for index, row in results_df.iterrows():\n",
        "  if row['correct'] == True:\n",
        "    true_count=true_count+1\n",
        "  else:\n",
        "    false_count=false_count+1\n",
        "total = true_count+false_count\n",
        "accuracy = true_count/total\n",
        "print(accuracy, total)"
      ],
      "execution_count": null,
      "outputs": []
    }
  ]
}
