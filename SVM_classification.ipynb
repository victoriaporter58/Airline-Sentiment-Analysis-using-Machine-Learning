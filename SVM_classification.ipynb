{
  "nbformat": 4,
  "nbformat_minor": 0,
  "metadata": {
    "_change_revision": 0,
    "_is_fork": false,
    "kernelspec": {
      "display_name": "Python 3",
      "language": "python",
      "name": "python3"
    },
    "language_info": {
      "codemirror_mode": {
        "name": "ipython",
        "version": 3
      },
      "file_extension": ".py",
      "mimetype": "text/x-python",
      "name": "python",
      "nbconvert_exporter": "python",
      "pygments_lexer": "ipython3",
      "version": "3.6.0"
    },
    "colab": {
      "name": "SVM_classification.ipynb",
      "provenance": [],
      "include_colab_link": true
    }
  },
  "cells": [
    {
      "cell_type": "markdown",
      "metadata": {
        "id": "view-in-github",
        "colab_type": "text"
      },
      "source": [
        "<a href=\"https://colab.research.google.com/github/victoriaporter58/Airline-Sentiment-Analysis-using-Machine-Learning/blob/main/SVM_classification.ipynb\" target=\"_parent\"><img src=\"https://colab.research.google.com/assets/colab-badge.svg\" alt=\"Open In Colab\"/></a>"
      ]
    },
    {
      "cell_type": "markdown",
      "metadata": {
        "id": "TE1AX7U6qVpV"
      },
      "source": [
        "##Base SVM Model\n",
        "(Support Vector Machine)\n",
        "Our Non-Neural model"
      ]
    },
    {
      "cell_type": "markdown",
      "metadata": {
        "id": "pf-6Tsy6m0NQ"
      },
      "source": [
        "##Import Drive\n",
        "Comment out if necceseray"
      ]
    },
    {
      "cell_type": "code",
      "metadata": {
        "id": "00EK9uQ-3um4",
        "outputId": "5f5d37a1-133a-4ce3-b002-8f6c0c488274",
        "colab": {
          "base_uri": "https://localhost:8080/",
          "height": 34
        }
      },
      "source": [
        "from google.colab import drive\n",
        "drive.mount('/content/gdrive')"
      ],
      "execution_count": null,
      "outputs": [
        {
          "output_type": "stream",
          "text": [
            "Drive already mounted at /content/gdrive; to attempt to forcibly remount, call drive.mount(\"/content/gdrive\", force_remount=True).\n"
          ],
          "name": "stdout"
        }
      ]
    },
    {
      "cell_type": "markdown",
      "metadata": {
        "id": "OVh8Ga9vm4DB"
      },
      "source": [
        "##Import libraries"
      ]
    },
    {
      "cell_type": "code",
      "metadata": {
        "id": "RO61xIB63dBd"
      },
      "source": [
        "from sklearn.model_selection import train_test_split\n",
        "from scipy.sparse import hstack\n",
        "from sklearn.feature_extraction.text import CountVectorizer\n",
        "from sklearn.metrics import accuracy_score\n",
        "from sklearn.metrics import classification_report\n",
        "from sklearn.metrics import confusion_matrix\n",
        "from sklearn.multiclass import OneVsRestClassifier\n",
        "from sklearn import svm\n",
        "from scipy import sparse\n",
        "from datetime import datetime\n",
        "import pandas as pd\n",
        "import numpy as np"
      ],
      "execution_count": null,
      "outputs": []
    },
    {
      "cell_type": "markdown",
      "metadata": {
        "id": "VUZT4h_hnjhS"
      },
      "source": [
        "##Read in cleaned tweet data\n",
        "\n",
        "For our baseline model we are only going to consider the airline sentiment and the tweet text."
      ]
    },
    {
      "cell_type": "code",
      "metadata": {
        "id": "cn6anPte3XtL"
      },
      "source": [
        "#path for the Cleaned.csv file which in the current case is in a folder called \"project folder\" in the top level of my personal google drive\n",
        "tweets_data_path = '/content/gdrive/My Drive/project_folder/Cleaned.csv'\n",
        "\n",
        "tweets = pd.read_csv(tweets_data_path, header=0)"
      ],
      "execution_count": null,
      "outputs": []
    },
    {
      "cell_type": "markdown",
      "metadata": {
        "id": "WTLOurSmpZix"
      },
      "source": [
        "##Fit the count vectorizer"
      ]
    },
    {
      "cell_type": "code",
      "metadata": {
        "_cell_guid": "3a964c4c-c16e-6592-e68e-3f6ef1197fdc",
        "id": "lLz0J1xtaVu5"
      },
      "source": [
        "count_vectorizer = CountVectorizer(ngram_range=(1,2))\n",
        "vectorized_data = count_vectorizer.fit_transform(tweets.text)\n",
        "indexed_data = hstack((np.array(range(0,vectorized_data.shape[0]))[:,None], vectorized_data))"
      ],
      "execution_count": null,
      "outputs": []
    },
    {
      "cell_type": "markdown",
      "metadata": {
        "id": "tegx_9vspnsc"
      },
      "source": [
        "##Convert sentiment into integers"
      ]
    },
    {
      "cell_type": "code",
      "metadata": {
        "_cell_guid": "457bdfd2-685d-bbc1-699f-1954108dd1d5",
        "id": "-YQ54lTSaVu6"
      },
      "source": [
        "def sentiment2target(sentiment):\n",
        "    return {\n",
        "        'negative': 0,\n",
        "        'neutral': 1,\n",
        "        'positive' : 2\n",
        "    }[sentiment]\n",
        "    \n",
        "targets = tweets.airline_sentiment.apply(sentiment2target)"
      ],
      "execution_count": null,
      "outputs": []
    },
    {
      "cell_type": "markdown",
      "metadata": {
        "id": "w2fw9L4kpwmB"
      },
      "source": [
        "##Split data into train and test"
      ]
    },
    {
      "cell_type": "code",
      "metadata": {
        "_cell_guid": "c99298bd-84e9-d31e-58d1-00dbbdfa83e1",
        "id": "0twe-0ZfaVu8"
      },
      "source": [
        "X_train, X_test, y_train, y_test = train_test_split(indexed_data, targets, test_size=0.2, random_state=1)\n",
        "data_train_index = X_train[:,0]\n",
        "X_train = X_train[:,1:]\n",
        "\n",
        "data_test_index = X_test[:,0]\n",
        "X_test = X_test[:,1:]"
      ],
      "execution_count": null,
      "outputs": []
    },
    {
      "cell_type": "markdown",
      "metadata": {
        "id": "F4NXmUezp4pR"
      },
      "source": [
        "##Generate and train the model"
      ]
    },
    {
      "cell_type": "code",
      "metadata": {
        "_cell_guid": "ed3e70df-a983-fb02-1b47-0499bda60850",
        "id": "umxF0G6raVu-",
        "outputId": "05a03d97-c3ae-4379-a285-a9f84157d602",
        "colab": {
          "base_uri": "https://localhost:8080/",
          "height": 34
        }
      },
      "source": [
        "\n",
        "clf = OneVsRestClassifier(svm.SVC(gamma=1, C=0.1, probability=True, class_weight='balanced', kernel='linear'))\n",
        "start_train_time = datetime.now()\n",
        "clf_output = clf.fit(X_train, y_train)\n",
        "end_train_time = datetime.now()\n",
        "print('Training complete:',end_train_time-start_train_time)"
      ],
      "execution_count": null,
      "outputs": [
        {
          "output_type": "stream",
          "text": [
            "Training complete: 0:04:05.955883\n"
          ],
          "name": "stdout"
        }
      ]
    },
    {
      "cell_type": "markdown",
      "metadata": {
        "id": "VpGVkjgqqFk8"
      },
      "source": [
        "##Test the model and generate analysis metrics"
      ]
    },
    {
      "cell_type": "code",
      "metadata": {
        "_cell_guid": "1af23c8b-7c12-63f5-260b-9f34d1285064",
        "id": "C31TkGgSaVvA",
        "outputId": "238a8d92-6aff-429f-cb18-fa28cccab7c4",
        "colab": {
          "base_uri": "https://localhost:8080/",
          "height": 340
        }
      },
      "source": [
        "start_test_time = datetime.now()\n",
        "predictions = clf.predict(X_test)\n",
        "end_test_time = datetime.now()\n",
        "expected = y_test.tolist()\n",
        "\n",
        "print(\"Testing time:\", end_test_time-start_test_time)\n",
        "print(\"Accuracy: \", accuracy_score(expected, predictions), \"\\n\")\n",
        "print(\"Classification Report:\")\n",
        "print(classification_report(expected, predictions), \"\\n\")\n",
        "print(\"Confusion Matrix:\")\n",
        "print(confusion_matrix(expected, predictions))"
      ],
      "execution_count": null,
      "outputs": [
        {
          "output_type": "stream",
          "text": [
            "Testing time: 0:00:09.737372\n",
            "Accuracy:  0.7766393442622951 \n",
            "\n",
            "Classification Report:\n",
            "              precision    recall  f1-score   support\n",
            "\n",
            "           0       0.89      0.83      0.86      1826\n",
            "           1       0.56      0.68      0.62       611\n",
            "           2       0.72      0.70      0.71       491\n",
            "\n",
            "    accuracy                           0.78      2928\n",
            "   macro avg       0.72      0.74      0.73      2928\n",
            "weighted avg       0.79      0.78      0.78      2928\n",
            " \n",
            "\n",
            "Confusion Matrix:\n",
            "[[1512  245   69]\n",
            " [ 130  418   63]\n",
            " [  65   82  344]]\n"
          ],
          "name": "stdout"
        }
      ]
    },
    {
      "cell_type": "markdown",
      "metadata": {
        "id": "ALKrUq_-DUjb"
      },
      "source": [
        "##Retrieve requirements"
      ]
    },
    {
      "cell_type": "code",
      "metadata": {
        "id": "4Y0bCiq8DPnr"
      },
      "source": [
        "#pip freeze > requirements.txt"
      ],
      "execution_count": null,
      "outputs": []
    },
    {
      "cell_type": "code",
      "metadata": {
        "id": "fx6miXYMDS4v"
      },
      "source": [
        "#cat requirements.txt"
      ],
      "execution_count": null,
      "outputs": []
    }
  ]
}